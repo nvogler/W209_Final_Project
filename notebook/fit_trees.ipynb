{
 "cells": [
  {
   "cell_type": "code",
   "execution_count": 1,
   "metadata": {},
   "outputs": [],
   "source": [
    "# load libraries\n",
    "import numpy as np\n",
    "import pandas as pd\n",
    "import sys, pickle\n",
    "from sklearn.preprocessing import OneHotEncoder\n",
    "from sklearn.tree import DecisionTreeClassifier, export_graphviz\n",
    "from sklearn.model_selection import train_test_split, GridSearchCV"
   ]
  },
  {
   "cell_type": "markdown",
   "metadata": {},
   "source": [
    "Remove the irrelevant features or those that have repeated information such as age in age groups when age is available as a continuous variable. Recode missing values, refused to answers to '123456789', and if the answer was none as an asnwer to, for example, 'how many drinks did you have in the last 30 days?' to 0."
   ]
  },
  {
   "cell_type": "code",
   "execution_count": 2,
   "metadata": {},
   "outputs": [
    {
     "name": "stderr",
     "output_type": "stream",
     "text": [
      "/home/ubuntu/anaconda3/lib/python3.6/site-packages/IPython/core/interactiveshell.py:2728: DtypeWarning: Columns (121) have mixed types. Specify dtype option on import or set low_memory=False.\n",
      "  interactivity=interactivity, compiler=compiler, result=result)\n"
     ]
    },
    {
     "name": "stdout",
     "output_type": "stream",
     "text": [
      "(464664, 240)\n"
     ]
    },
    {
     "data": {
      "text/plain": [
       "854.3703231811523"
      ]
     },
     "execution_count": 2,
     "metadata": {},
     "output_type": "execute_result"
    }
   ],
   "source": [
    "brfss = pd.read_csv(\"brfss2014.csv\", index_col = 0,encoding='latin1')\n",
    "brfss = brfss.drop(['fmonth','imonth','iday','idate','seqno','x.psu','colghous','ladult','flshtmy2','dlyother',\n",
    "                    'alcday5','rcsbirth','x.ststr','x.strwt','x.rawrake','x.wt2rake','x.dualcor','x.llcpwt2',\n",
    "                    'x.llcpwt','x.ageg5yr','x.age65yr','x.age.g','htm4','x.bmi5','x.rfbmi5','x.drnkdy4','x.smoker3',\n",
    "                   'x.rfdrhv4','x.rfdrmn4','x.rfdrwm4','x.rfseat2','x.mam502y','x.mam5021','x.rfblds3','x.col10yr',\n",
    "                   'x.cllcpwt','x.casthm1','x.ltasth1','x.mrace1'],axis=1)\n",
    "brfss = brfss.fillna(123456789)\n",
    "\n",
    "brfss = brfss.replace([77,777,7777],123456789)\n",
    "brfss =  brfss.replace([99,999,9999], 123456789)\n",
    "brfss = brfss.replace([88,888,8888], 0)\n",
    "\n",
    "print(brfss.shape)\n",
    "sys.getsizeof(brfss)/1024**2\n",
    "# keep only the recalculated or imputed variables"
   ]
  },
  {
   "cell_type": "markdown",
   "metadata": {},
   "source": [
    "Choose AIDS testing status (x.aidtst3) as label, its values are : 1 tested, 2 not tested, [7,9,123456789] refused, don't know and missing, respectively."
   ]
  },
  {
   "cell_type": "code",
   "execution_count": 3,
   "metadata": {},
   "outputs": [
    {
     "name": "stdout",
     "output_type": "stream",
     "text": [
      "(418626, 240)\n"
     ]
    },
    {
     "data": {
      "text/plain": [
       "769.7209854125977"
      ]
     },
     "execution_count": 3,
     "metadata": {},
     "output_type": "execute_result"
    }
   ],
   "source": [
    "label_var = 'x.aidtst3'\n",
    "brfss = brfss.loc[~brfss[label_var].isin([9,7,123456789])]\n",
    "label = brfss[label_var]\n",
    "print(brfss.shape)\n",
    "sys.getsizeof(brfss)/1024**2"
   ]
  },
  {
   "cell_type": "code",
   "execution_count": 4,
   "metadata": {},
   "outputs": [
    {
     "data": {
      "text/plain": [
       "2.0    301619\n",
       "1.0    117007\n",
       "Name: x.aidtst3, dtype: int64"
      ]
     },
     "execution_count": 4,
     "metadata": {},
     "output_type": "execute_result"
    }
   ],
   "source": [
    "label.value_counts()"
   ]
  },
  {
   "cell_type": "markdown",
   "metadata": {},
   "source": [
    "Further select ratio scale and categorical variables for the analysis"
   ]
  },
  {
   "cell_type": "code",
   "execution_count": 5,
   "metadata": {},
   "outputs": [
    {
     "name": "stdout",
     "output_type": "stream",
     "text": [
      "(418626, 20)\n"
     ]
    },
    {
     "data": {
      "text/plain": [
       "67.0711441040039"
      ]
     },
     "execution_count": 5,
     "metadata": {},
     "output_type": "execute_result"
    }
   ],
   "source": [
    "ratio_scale_variable_labels = ['sleptim1','x.age80','x.impnph','htin4','wtkg3','drocdy3.','x.drnkmo4']\n",
    "ratio_scale_variables = brfss[ratio_scale_variable_labels]\n",
    "categorical_variable_labels = ['x.imprace','x.impeduc','x.impmrtl','x.impcsex','x.asthms1','x.incomg',\n",
    "                                'x.rfseat3','x.flshot6','x.pneumo2','x.bmi5cat','x.rfmam2y','x.denvst2','x.rfsmok3']\n",
    "categorical_variables = brfss[categorical_variable_labels].astype('int64')\n",
    "#print(categorical_variables.shape)\n",
    "variables = pd.concat([categorical_variables, ratio_scale_variables], axis = 1)\n",
    "print(variables.shape)\n",
    "sys.getsizeof(variables)/1024**2"
   ]
  },
  {
   "cell_type": "markdown",
   "metadata": {},
   "source": [
    "The first 13 features are categorical, the remaining 7 are on interval/ratio scale. Create one hot encoder for the categoricals.And split into 0.67 training set, 0.33 test sets"
   ]
  },
  {
   "cell_type": "code",
   "execution_count": 6,
   "metadata": {},
   "outputs": [],
   "source": [
    "ohe = OneHotEncoder(categorical_features = range(13))\n",
    "ohe_variables = ohe.fit_transform(variables)\n",
    "# get back feature name\n",
    "uniq_vals = categorical_variables.apply(lambda x: x.value_counts()).unstack()\n",
    "uniq_vals = uniq_vals[~uniq_vals.isnull()]\n",
    "categorical_ohe_feature_labels = list(uniq_vals.index.map('{0[0]}_{0[1]}'.format))\n",
    "feature_names = np.hstack([categorical_ohe_feature_labels, ratio_scale_variable_labels])\n",
    "\n",
    "X_train, X_test, y_train, y_test = train_test_split(ohe_variables, label, test_size=0.33, random_state=1234)"
   ]
  },
  {
   "cell_type": "code",
   "execution_count": 7,
   "metadata": {},
   "outputs": [
    {
     "name": "stdout",
     "output_type": "stream",
     "text": [
      "['x.imprace_1' 'x.imprace_2' 'x.imprace_3' 'x.imprace_4' 'x.imprace_5'\n",
      " 'x.imprace_6' 'x.impeduc_1' 'x.impeduc_2' 'x.impeduc_3' 'x.impeduc_4'\n",
      " 'x.impeduc_5' 'x.impeduc_6' 'x.impmrtl_1' 'x.impmrtl_2' 'x.impmrtl_3'\n",
      " 'x.impmrtl_4' 'x.impmrtl_5' 'x.impmrtl_6' 'x.impcsex_1' 'x.impcsex_2'\n",
      " 'x.impcsex_123456789' 'x.asthms1_1' 'x.asthms1_2' 'x.asthms1_3'\n",
      " 'x.asthms1_9' 'x.incomg_1' 'x.incomg_2' 'x.incomg_3' 'x.incomg_4'\n",
      " 'x.incomg_5' 'x.incomg_9' 'x.rfseat3_1' 'x.rfseat3_2' 'x.rfseat3_9'\n",
      " 'x.flshot6_1' 'x.flshot6_2' 'x.flshot6_9' 'x.flshot6_123456789'\n",
      " 'x.pneumo2_1' 'x.pneumo2_2' 'x.pneumo2_9' 'x.pneumo2_123456789'\n",
      " 'x.bmi5cat_1' 'x.bmi5cat_2' 'x.bmi5cat_3' 'x.bmi5cat_4'\n",
      " 'x.bmi5cat_123456789' 'x.rfmam2y_1' 'x.rfmam2y_2' 'x.rfmam2y_9'\n",
      " 'x.rfmam2y_123456789' 'x.denvst2_1' 'x.denvst2_2' 'x.denvst2_9'\n",
      " 'x.rfsmok3_1' 'x.rfsmok3_2' 'x.rfsmok3_9' 'sleptim1' 'x.age80' 'x.impnph'\n",
      " 'htin4' 'wtkg3' 'drocdy3.' 'x.drnkmo4']\n"
     ]
    }
   ],
   "source": [
    "print(feature_names)"
   ]
  },
  {
   "cell_type": "markdown",
   "metadata": {},
   "source": [
    "# Run: Fit a depth 5 decision tree"
   ]
  },
  {
   "cell_type": "code",
   "execution_count": 8,
   "metadata": {},
   "outputs": [
    {
     "name": "stderr",
     "output_type": "stream",
     "text": [
      "/home/ubuntu/anaconda3/lib/python3.6/site-packages/sklearn/tree/tree.py:282: DeprecationWarning: The min_impurity_split parameter is deprecated and will be removed in version 0.21. Use the min_impurity_decrease parameter instead.\n",
      "  DeprecationWarning)\n"
     ]
    }
   ],
   "source": [
    "clf = DecisionTreeClassifier(class_weight=None, criterion='gini', max_depth=5,\n",
    "            max_features=61, max_leaf_nodes=None, min_impurity_split=1e-07,\n",
    "            min_samples_leaf=25, min_samples_split=100,\n",
    "            min_weight_fraction_leaf=0.0, presort=False, random_state=123,\n",
    "            splitter='best')\n",
    "\n",
    "clf.fit(X_train, y_train)\n",
    "export_graphviz(clf, out_file = 'tree.dot', feature_names = feature_names, class_names = ['tested','not-tested'],\n",
    "               rounded =  True, filled = True)\n",
    "#!dot -Tpng tree.dot -o tree.png\n",
    "\n",
    "\n",
    "pickle.dump(clf, open('decision_tree_AIDS_5lvl.pickle','wb'))"
   ]
  },
  {
   "cell_type": "code",
   "execution_count": null,
   "metadata": {},
   "outputs": [],
   "source": []
  },
  {
   "cell_type": "markdown",
   "metadata": {},
   "source": [
    "# Not Run yet: Find optimal tree parameters by cross-validation"
   ]
  },
  {
   "cell_type": "code",
   "execution_count": 10,
   "metadata": {},
   "outputs": [
    {
     "name": "stdout",
     "output_type": "stream",
     "text": [
      "Fitting 10 folds for each of 1200 candidates, totalling 12000 fits\n"
     ]
    },
    {
     "name": "stderr",
     "output_type": "stream",
     "text": [
      "[Parallel(n_jobs=4)]: Done  42 tasks      | elapsed:    6.6s\n",
      "[Parallel(n_jobs=4)]: Done 192 tasks      | elapsed:   28.4s\n",
      "[Parallel(n_jobs=4)]: Done 442 tasks      | elapsed:  1.1min\n",
      "[Parallel(n_jobs=4)]: Done 792 tasks      | elapsed:  2.1min\n",
      "[Parallel(n_jobs=4)]: Done 1242 tasks      | elapsed:  3.7min\n",
      "[Parallel(n_jobs=4)]: Done 1792 tasks      | elapsed:  5.4min\n",
      "[Parallel(n_jobs=4)]: Done 2442 tasks      | elapsed:  7.8min\n",
      "[Parallel(n_jobs=4)]: Done 3192 tasks      | elapsed: 11.7min\n",
      "[Parallel(n_jobs=4)]: Done 4042 tasks      | elapsed: 25.5min\n",
      "[Parallel(n_jobs=4)]: Done 4992 tasks      | elapsed: 46.3min\n",
      "[Parallel(n_jobs=4)]: Done 6042 tasks      | elapsed: 79.4min\n",
      "[Parallel(n_jobs=4)]: Done 7192 tasks      | elapsed: 83.1min\n",
      "[Parallel(n_jobs=4)]: Done 8442 tasks      | elapsed: 87.9min\n",
      "[Parallel(n_jobs=4)]: Done 9792 tasks      | elapsed: 99.0min\n",
      "[Parallel(n_jobs=4)]: Done 11242 tasks      | elapsed: 128.2min\n",
      "[Parallel(n_jobs=4)]: Done 12000 out of 12000 | elapsed: 157.2min finished\n"
     ]
    },
    {
     "data": {
      "text/plain": [
       "GridSearchCV(cv=10, error_score='raise',\n",
       "       estimator=DecisionTreeClassifier(class_weight=None, criterion='gini', max_depth=None,\n",
       "            max_features=None, max_leaf_nodes=None,\n",
       "            min_impurity_decrease=0.0, min_impurity_split=None,\n",
       "            min_samples_leaf=1, min_samples_split=2,\n",
       "            min_weight_fraction_leaf=0.0, presort=False, random_state=123,\n",
       "            splitter='best'),\n",
       "       fit_params=None, iid=True, n_jobs=4,\n",
       "       param_grid={'max_depth': [3, 4, 5, 10, 12, 15], 'min_samples_split': [2, 5, 10, 50, 100], 'min_samples_leaf': [1, 5, 10, 25], 'max_features': [5, 10, 20, 30, 61], 'class_weight': [None, 'balanced']},\n",
       "       pre_dispatch='2*n_jobs', refit=True, return_train_score='warn',\n",
       "       scoring=None, verbose=1)"
      ]
     },
     "execution_count": 10,
     "metadata": {},
     "output_type": "execute_result"
    }
   ],
   "source": [
    "clf = DecisionTreeClassifier(random_state=123)\n",
    "params = {'max_depth':[3,4,5,10,12,15], 'min_samples_split':[2,5,10,50,100], 'min_samples_leaf':[1,5,10,25],\n",
    "          'max_features':[5,10,20,30,61], 'class_weight':[None,'balanced']}\n",
    "gd = GridSearchCV(clf, params, cv = 10, verbose = 1, n_jobs = 4)\n",
    "gd.fit(X_train, y_train)"
   ]
  },
  {
   "cell_type": "code",
   "execution_count": 11,
   "metadata": {},
   "outputs": [
    {
     "data": {
      "text/plain": [
       "DecisionTreeClassifier(class_weight=None, criterion='gini', max_depth=10,\n",
       "            max_features=61, max_leaf_nodes=None,\n",
       "            min_impurity_decrease=0.0, min_impurity_split=None,\n",
       "            min_samples_leaf=25, min_samples_split=100,\n",
       "            min_weight_fraction_leaf=0.0, presort=False, random_state=123,\n",
       "            splitter='best')"
      ]
     },
     "execution_count": 11,
     "metadata": {},
     "output_type": "execute_result"
    }
   ],
   "source": [
    "gd.best_estimator_"
   ]
  },
  {
   "cell_type": "code",
   "execution_count": 12,
   "metadata": {},
   "outputs": [
    {
     "data": {
      "text/plain": [
       "0.7464908246250165"
      ]
     },
     "execution_count": 12,
     "metadata": {},
     "output_type": "execute_result"
    }
   ],
   "source": [
    "gd.best_score_"
   ]
  },
  {
   "cell_type": "code",
   "execution_count": 16,
   "metadata": {},
   "outputs": [],
   "source": [
    "clf_best = gd.best_estimator_\n",
    "clf_best.fit(X_train, y_train)\n",
    "\n",
    "export_graphviz(clf_best, out_file = 'opt_tree.dot', feature_names = feature_names, class_names = ['tested','not-tested'],\n",
    "               rounded =  True, filled = True)\n",
    "#!dot -Tpng opt_tree.dot -o opt_tree.png\n",
    "\n",
    "\n",
    "pickle.dump(clf_best, open('decision_tree_AIDS_opt.pickle','wb'))"
   ]
  },
  {
   "cell_type": "markdown",
   "metadata": {},
   "source": [
    "# Read Pickle"
   ]
  },
  {
   "cell_type": "code",
   "execution_count": 10,
   "metadata": {},
   "outputs": [],
   "source": [
    "feature_names = ['x.imprace_1', 'x.imprace_2', 'x.imprace_3', 'x.imprace_4', 'x.imprace_5',\n",
    " 'x.imprace_6', 'x.impeduc_1', 'x.impeduc_2' ,'x.impeduc_3', 'x.impeduc_4',\n",
    " 'x.impeduc_5', 'x.impeduc_6', 'x.impmrtl_1', 'x.impmrtl_2', 'x.impmrtl_3',\n",
    " 'x.impmrtl_4', 'x.impmrtl_5', 'x.impmrtl_6', 'x.impcsex_1', 'x.impcsex_2',\n",
    " 'x.impcsex_123456789', 'x.asthms1_1', 'x.asthms1_2', 'x.asthms1_3',\n",
    " 'x.asthms1_9', 'x.incomg_1', 'x.incomg_2', 'x.incomg_3', 'x.incomg_4',\n",
    " 'x.incomg_5', 'x.incomg_9', 'x.rfseat3_1', 'x.rfseat3_2', 'x.rfseat3_9',\n",
    " 'x.flshot6_1', 'x.flshot6_2', 'x.flshot6_9', 'x.flshot6_123456789',\n",
    " 'x.pneumo2_1', 'x.pneumo2_2', 'x.pneumo2_9', 'x.pneumo2_123456789',\n",
    " 'x.bmi5cat_1', 'x.bmi5cat_2', 'x.bmi5cat_3', 'x.bmi5cat_4',\n",
    " 'x.bmi5cat_123456789', 'x.rfmam2y_1', 'x.rfmam2y_2', 'x.rfmam2y_9',\n",
    " 'x.rfmam2y_123456789', 'x.denvst2_1', 'x.denvst2_2', 'x.denvst2_9',\n",
    " 'x.rfsmok3_1', 'x.rfsmok3_2', 'x.rfsmok3_9', 'sleptim1', 'x.age80', 'x.impnph',\n",
    " 'htin4', 'wtkg3', 'drocdy3.', 'x.drnkmo4']\n",
    "\n",
    "decision_tree = pickle.load(open('decision_tree_AIDS_5lvl.pickle','rb'))"
   ]
  },
  {
   "cell_type": "code",
   "execution_count": 12,
   "metadata": {},
   "outputs": [
    {
     "data": {
      "text/plain": [
       "64"
      ]
     },
     "execution_count": 12,
     "metadata": {},
     "output_type": "execute_result"
    }
   ],
   "source": [
    "len(feature_names)"
   ]
  },
  {
   "cell_type": "code",
   "execution_count": 13,
   "metadata": {},
   "outputs": [
    {
     "data": {
      "text/plain": [
       "{'x.age80': [{'x.imprace_2': [{'x.rfsmok3_1': [{'x.age80': [{'x.age80': ['leaf_1',\n",
       "          'leaf_2']},\n",
       "        {'x.impmrtl_1': ['leaf_3', 'leaf_4']}]},\n",
       "      {'x.age80': [{'x.impmrtl_5': ['leaf_5', 'leaf_6']},\n",
       "        {'x.age80': ['leaf_7', 'leaf_8']}]}]},\n",
       "    {'x.age80': [{'x.age80': [{'x.impcsex_123456789': ['leaf_9', 'leaf_10']},\n",
       "        {'htin4': ['leaf_11', 'leaf_12']}]},\n",
       "      {'x.age80': [{'x.age80': ['leaf_13', 'leaf_14']},\n",
       "        {'drocdy3.': ['leaf_15', 'leaf_16']}]}]}]},\n",
       "  {'x.age80': [{'x.impmrtl_1': [{'x.imprace_2': [{'x.impmrtl_3': ['leaf_17',\n",
       "          'leaf_18']},\n",
       "        {'x.age80': ['leaf_19', 'leaf_20']}]},\n",
       "      {'x.imprace_2': [{'x.impeduc_4': ['leaf_21', 'leaf_22']},\n",
       "        {'x.rfmam2y_123456789': ['leaf_23', 'leaf_24']}]}]},\n",
       "    {'x.age80': [{'x.imprace_2': [{'x.impmrtl_2': ['leaf_25', 'leaf_26']},\n",
       "        {'x.rfmam2y_123456789': ['leaf_27', 'leaf_28']}]},\n",
       "      {'x.imprace_1': [{'x.rfmam2y_123456789': ['leaf_29', 'leaf_30']},\n",
       "        {'x.rfmam2y_123456789': ['leaf_31', 'leaf_32']}]}]}]}]}"
      ]
     },
     "execution_count": 13,
     "metadata": {},
     "output_type": "execute_result"
    }
   ],
   "source": [
    "from collections import deque\n",
    "\n",
    "# data for reconstructing the tree\n",
    "features = decision_tree.tree_.feature\n",
    "#feature_names = iris.feature_names\n",
    "\n",
    "# set containers\n",
    "leaves = deque()\n",
    "nodes = []\n",
    "\n",
    "# count the leaf nodes in the tree in order to return a little bit nicer formatted output\n",
    "n_leaf = sum([feature == -2 for feature in features])\n",
    "\n",
    "# build the tree in a bottom-up approach\n",
    "for feature in reversed(features):\n",
    "    # if it is a leaf node, append it to leaves and give it a name\n",
    "    if feature == -2:\n",
    "        leaves.append('leaf_' + str(n_leaf))\n",
    "        n_leaf -= 1\n",
    "    # if it is a node, append it to the tree\n",
    "    else:\n",
    "        nodes.append(feature)\n",
    "        # add left and right children to the stack\n",
    "        child1=leaves.pop()\n",
    "        child2=leaves.pop()\n",
    "        # temporary stack to store the children\n",
    "        temp_leaves = []\n",
    "        # and the nodes \n",
    "        temp_node_leaves = {}\n",
    "        temp_leaves.append(child1)\n",
    "        temp_leaves.append(child2)\n",
    "        temp_node_leaves[feature_names[feature]] = temp_leaves\n",
    "        leaves.append(temp_node_leaves)\n",
    "reconstructed_tree = temp_node_leaves\n",
    "reconstructed_tree"
   ]
  },
  {
   "cell_type": "code",
   "execution_count": 27,
   "metadata": {},
   "outputs": [
    {
     "name": "stdout",
     "output_type": "stream",
     "text": [
      "[ 1  2  3  4  5 -1 -1  8 -1 -1 11 12 -1 -1 15 -1 -1 18 19 20 -1 -1 23 -1\n",
      " -1 26 27 -1 -1 30 -1 -1 33 34 35 36 -1 -1 39 -1 -1 42 43 -1 -1 46 -1 -1\n",
      " 49 50 51 -1 -1 54 -1 -1 57 58 -1 -1 61 -1 -1]\n",
      "[32 17 10  7  6 -1 -1  9 -1 -1 14 13 -1 -1 16 -1 -1 25 22 21 -1 -1 24 -1\n",
      " -1 29 28 -1 -1 31 -1 -1 48 41 38 37 -1 -1 40 -1 -1 45 44 -1 -1 47 -1 -1\n",
      " 56 53 52 -1 -1 55 -1 -1 60 59 -1 -1 62 -1 -1]\n"
     ]
    }
   ],
   "source": [
    "print(decision_tree.tree_.children_left)\n",
    "print(decision_tree.tree_.children_right)"
   ]
  },
  {
   "cell_type": "code",
   "execution_count": 41,
   "metadata": {},
   "outputs": [
    {
     "name": "stdout",
     "output_type": "stream",
     "text": [
      "{'nodes': [{'name': 'x.age80', 'node': 0}, {'name': 'x.imprace_2', 'node': 1}, {'name': 'x.rfsmok3_1', 'node': 2}, {'name': 'x.age80', 'node': 3}, {'name': 'x.age80', 'node': 4}, {'name': 'x.impmrtl_1', 'node': 7}, {'name': 'x.age80', 'node': 10}, {'name': 'x.impmrtl_5', 'node': 11}, {'name': 'x.age80', 'node': 14}, {'name': 'x.age80', 'node': 17}, {'name': 'x.age80', 'node': 18}, {'name': 'x.impcsex_123456789', 'node': 19}, {'name': 'htin4', 'node': 22}, {'name': 'x.age80', 'node': 25}, {'name': 'x.age80', 'node': 26}, {'name': 'drocdy3.', 'node': 29}, {'name': 'x.age80', 'node': 32}, {'name': 'x.impmrtl_1', 'node': 33}, {'name': 'x.imprace_2', 'node': 34}, {'name': 'x.impmrtl_3', 'node': 35}, {'name': 'x.age80', 'node': 38}, {'name': 'x.imprace_2', 'node': 41}, {'name': 'x.impeduc_4', 'node': 42}, {'name': 'x.rfmam2y_123456789', 'node': 45}, {'name': 'x.age80', 'node': 48}, {'name': 'x.imprace_2', 'node': 49}, {'name': 'x.impmrtl_2', 'node': 50}, {'name': 'x.rfmam2y_123456789', 'node': 53}, {'name': 'x.imprace_1', 'node': 56}, {'name': 'x.rfmam2y_123456789', 'node': 57}, {'name': 'x.rfmam2y_123456789', 'node': 60}], 'links': [{'target': 1, 'source': 0, 'value': 78391.0}, {'target': 32, 'source': 0, 'value': 202088.0}, {'target': 2, 'source': 1, 'value': 53640.0}, {'target': 17, 'source': 1, 'value': 73010.0}, {'target': 3, 'source': 2, 'value': 46188.0}, {'target': 10, 'source': 2, 'value': 69660.0}, {'target': 4, 'source': 3, 'value': 11538.0}, {'target': 7, 'source': 3, 'value': 11167.0}, {'target': 5, 'source': 4, 'value': 8824.0}, {'target': 6, 'source': 4, 'value': 7187.0}, {'target': 8, 'source': 7, 'value': 2714.0}, {'target': 9, 'source': 7, 'value': 3980.0}, {'target': 11, 'source': 10, 'value': 34650.0}, {'target': 14, 'source': 10, 'value': 58493.0}, {'target': 12, 'source': 11, 'value': 1038.0}, {'target': 13, 'source': 11, 'value': 5188.0}, {'target': 15, 'source': 14, 'value': 33612.0}, {'target': 16, 'source': 14, 'value': 53305.0}, {'target': 18, 'source': 17, 'value': 7452.0}, {'target': 25, 'source': 17, 'value': 3350.0}, {'target': 19, 'source': 18, 'value': 181.0}, {'target': 22, 'source': 18, 'value': 336.0}, {'target': 20, 'source': 19, 'value': 45.0}, {'target': 21, 'source': 19, 'value': 148.0}, {'target': 23, 'source': 22, 'value': 136.0}, {'target': 24, 'source': 22, 'value': 188.0}, {'target': 26, 'source': 25, 'value': 7271.0}, {'target': 29, 'source': 25, 'value': 3014.0}, {'target': 27, 'source': 26, 'value': 4936.0}, {'target': 28, 'source': 26, 'value': 1568.0}, {'target': 30, 'source': 29, 'value': 2335.0}, {'target': 31, 'source': 29, 'value': 1446.0}, {'target': 33, 'source': 32, 'value': 24751.0}, {'target': 48, 'source': 32, 'value': 129078.0}, {'target': 34, 'source': 33, 'value': 19261.0}, {'target': 41, 'source': 33, 'value': 69719.0}, {'target': 35, 'source': 34, 'value': 10243.0}, {'target': 38, 'source': 34, 'value': 24998.0}, {'target': 36, 'source': 35, 'value': 8309.0}, {'target': 37, 'source': 35, 'value': 22725.0}, {'target': 39, 'source': 38, 'value': 1934.0}, {'target': 40, 'source': 38, 'value': 2273.0}, {'target': 42, 'source': 41, 'value': 9018.0}, {'target': 45, 'source': 41, 'value': 44721.0}, {'target': 43, 'source': 42, 'value': 8165.0}, {'target': 44, 'source': 42, 'value': 43140.0}, {'target': 46, 'source': 45, 'value': 853.0}, {'target': 47, 'source': 45, 'value': 1581.0}, {'target': 49, 'source': 48, 'value': 5490.0}, {'target': 56, 'source': 48, 'value': 59359.0}, {'target': 50, 'source': 49, 'value': 3314.0}, {'target': 53, 'source': 49, 'value': 25026.0}, {'target': 51, 'source': 50, 'value': 2884.0}, {'target': 52, 'source': 50, 'value': 23728.0}, {'target': 54, 'source': 53, 'value': 430.0}, {'target': 55, 'source': 53, 'value': 1298.0}, {'target': 57, 'source': 56, 'value': 2176.0}, {'target': 60, 'source': 56, 'value': 34333.0}, {'target': 58, 'source': 57, 'value': 530.0}, {'target': 59, 'source': 57, 'value': 3799.0}, {'target': 61, 'source': 60, 'value': 1646.0}, {'target': 62, 'source': 60, 'value': 30534.0}]}\n"
     ]
    }
   ],
   "source": [
    "# data for reconstructing the tree\n",
    "features = decision_tree.tree_.feature\n",
    "child_left = decision_tree.tree_.children_left\n",
    "child_right = decision_tree.tree_.children_right\n",
    "values = decision_tree.tree_.value\n",
    "# set containers\n",
    "nodes =[]\n",
    "links =[]\n",
    "\n",
    "# add node and connections in to the list\n",
    "for i in range(0,len(features)):\n",
    "    if features[i]!=-2:\n",
    "        nodes.append({\"node\":i, \"name\":feature_names[features[i]]})\n",
    "        links.append({\"source\":i, \"target\":child_left[i], \"value\": values[i][0][0]})\n",
    "        links.append({\"source\":i, \"target\":child_right[i], \"value\": values[i][0][1]})\n",
    "    \n",
    "data = {\"nodes\":nodes, \"links\":links}\n",
    "\n",
    "print(data)"
   ]
  },
  {
   "cell_type": "code",
   "execution_count": 39,
   "metadata": {},
   "outputs": [
    {
     "data": {
      "text/plain": [
       "78391.0"
      ]
     },
     "execution_count": 39,
     "metadata": {},
     "output_type": "execute_result"
    }
   ],
   "source": [
    "decision_tree.tree_.value[0][0][0]"
   ]
  },
  {
   "cell_type": "code",
   "execution_count": 43,
   "metadata": {},
   "outputs": [
    {
     "ename": "TypeError",
     "evalue": "1 is not JSON serializable",
     "output_type": "error",
     "traceback": [
      "\u001b[0;31m---------------------------------------------------------------------------\u001b[0m",
      "\u001b[0;31mTypeError\u001b[0m                                 Traceback (most recent call last)",
      "\u001b[0;32m<ipython-input-43-935c89d11bfe>\u001b[0m in \u001b[0;36m<module>\u001b[0;34m()\u001b[0m\n\u001b[1;32m      1\u001b[0m \u001b[0;32mimport\u001b[0m \u001b[0mjson\u001b[0m\u001b[0;34m\u001b[0m\u001b[0m\n\u001b[1;32m      2\u001b[0m \u001b[0;32mwith\u001b[0m \u001b[0mopen\u001b[0m\u001b[0;34m(\u001b[0m\u001b[0;34m'tree_restructured.txt'\u001b[0m\u001b[0;34m,\u001b[0m \u001b[0;34m'w'\u001b[0m\u001b[0;34m)\u001b[0m \u001b[0;32mas\u001b[0m \u001b[0moutfile\u001b[0m\u001b[0;34m:\u001b[0m\u001b[0;34m\u001b[0m\u001b[0m\n\u001b[0;32m----> 3\u001b[0;31m     \u001b[0mjson\u001b[0m\u001b[0;34m.\u001b[0m\u001b[0mdump\u001b[0m\u001b[0;34m(\u001b[0m\u001b[0mdata\u001b[0m\u001b[0;34m,\u001b[0m \u001b[0moutfile\u001b[0m\u001b[0;34m)\u001b[0m\u001b[0;34m\u001b[0m\u001b[0m\n\u001b[0m",
      "\u001b[0;32m/usr/lib/python3.5/json/__init__.py\u001b[0m in \u001b[0;36mdump\u001b[0;34m(obj, fp, skipkeys, ensure_ascii, check_circular, allow_nan, cls, indent, separators, default, sort_keys, **kw)\u001b[0m\n\u001b[1;32m    176\u001b[0m     \u001b[0;31m# could accelerate with writelines in some versions of Python, at\u001b[0m\u001b[0;34m\u001b[0m\u001b[0;34m\u001b[0m\u001b[0m\n\u001b[1;32m    177\u001b[0m     \u001b[0;31m# a debuggability cost\u001b[0m\u001b[0;34m\u001b[0m\u001b[0;34m\u001b[0m\u001b[0m\n\u001b[0;32m--> 178\u001b[0;31m     \u001b[0;32mfor\u001b[0m \u001b[0mchunk\u001b[0m \u001b[0;32min\u001b[0m \u001b[0miterable\u001b[0m\u001b[0;34m:\u001b[0m\u001b[0;34m\u001b[0m\u001b[0m\n\u001b[0m\u001b[1;32m    179\u001b[0m         \u001b[0mfp\u001b[0m\u001b[0;34m.\u001b[0m\u001b[0mwrite\u001b[0m\u001b[0;34m(\u001b[0m\u001b[0mchunk\u001b[0m\u001b[0;34m)\u001b[0m\u001b[0;34m\u001b[0m\u001b[0m\n\u001b[1;32m    180\u001b[0m \u001b[0;34m\u001b[0m\u001b[0m\n",
      "\u001b[0;32m/usr/lib/python3.5/json/encoder.py\u001b[0m in \u001b[0;36m_iterencode\u001b[0;34m(o, _current_indent_level)\u001b[0m\n\u001b[1;32m    427\u001b[0m             \u001b[0;32myield\u001b[0m \u001b[0;32mfrom\u001b[0m \u001b[0m_iterencode_list\u001b[0m\u001b[0;34m(\u001b[0m\u001b[0mo\u001b[0m\u001b[0;34m,\u001b[0m \u001b[0m_current_indent_level\u001b[0m\u001b[0;34m)\u001b[0m\u001b[0;34m\u001b[0m\u001b[0m\n\u001b[1;32m    428\u001b[0m         \u001b[0;32melif\u001b[0m \u001b[0misinstance\u001b[0m\u001b[0;34m(\u001b[0m\u001b[0mo\u001b[0m\u001b[0;34m,\u001b[0m \u001b[0mdict\u001b[0m\u001b[0;34m)\u001b[0m\u001b[0;34m:\u001b[0m\u001b[0;34m\u001b[0m\u001b[0m\n\u001b[0;32m--> 429\u001b[0;31m             \u001b[0;32myield\u001b[0m \u001b[0;32mfrom\u001b[0m \u001b[0m_iterencode_dict\u001b[0m\u001b[0;34m(\u001b[0m\u001b[0mo\u001b[0m\u001b[0;34m,\u001b[0m \u001b[0m_current_indent_level\u001b[0m\u001b[0;34m)\u001b[0m\u001b[0;34m\u001b[0m\u001b[0m\n\u001b[0m\u001b[1;32m    430\u001b[0m         \u001b[0;32melse\u001b[0m\u001b[0;34m:\u001b[0m\u001b[0;34m\u001b[0m\u001b[0m\n\u001b[1;32m    431\u001b[0m             \u001b[0;32mif\u001b[0m \u001b[0mmarkers\u001b[0m \u001b[0;32mis\u001b[0m \u001b[0;32mnot\u001b[0m \u001b[0;32mNone\u001b[0m\u001b[0;34m:\u001b[0m\u001b[0;34m\u001b[0m\u001b[0m\n",
      "\u001b[0;32m/usr/lib/python3.5/json/encoder.py\u001b[0m in \u001b[0;36m_iterencode_dict\u001b[0;34m(dct, _current_indent_level)\u001b[0m\n\u001b[1;32m    401\u001b[0m                 \u001b[0;32melse\u001b[0m\u001b[0;34m:\u001b[0m\u001b[0;34m\u001b[0m\u001b[0m\n\u001b[1;32m    402\u001b[0m                     \u001b[0mchunks\u001b[0m \u001b[0;34m=\u001b[0m \u001b[0m_iterencode\u001b[0m\u001b[0;34m(\u001b[0m\u001b[0mvalue\u001b[0m\u001b[0;34m,\u001b[0m \u001b[0m_current_indent_level\u001b[0m\u001b[0;34m)\u001b[0m\u001b[0;34m\u001b[0m\u001b[0m\n\u001b[0;32m--> 403\u001b[0;31m                 \u001b[0;32myield\u001b[0m \u001b[0;32mfrom\u001b[0m \u001b[0mchunks\u001b[0m\u001b[0;34m\u001b[0m\u001b[0m\n\u001b[0m\u001b[1;32m    404\u001b[0m         \u001b[0;32mif\u001b[0m \u001b[0mnewline_indent\u001b[0m \u001b[0;32mis\u001b[0m \u001b[0;32mnot\u001b[0m \u001b[0;32mNone\u001b[0m\u001b[0;34m:\u001b[0m\u001b[0;34m\u001b[0m\u001b[0m\n\u001b[1;32m    405\u001b[0m             \u001b[0m_current_indent_level\u001b[0m \u001b[0;34m-=\u001b[0m \u001b[0;36m1\u001b[0m\u001b[0;34m\u001b[0m\u001b[0m\n",
      "\u001b[0;32m/usr/lib/python3.5/json/encoder.py\u001b[0m in \u001b[0;36m_iterencode_list\u001b[0;34m(lst, _current_indent_level)\u001b[0m\n\u001b[1;32m    322\u001b[0m                 \u001b[0;32melse\u001b[0m\u001b[0;34m:\u001b[0m\u001b[0;34m\u001b[0m\u001b[0m\n\u001b[1;32m    323\u001b[0m                     \u001b[0mchunks\u001b[0m \u001b[0;34m=\u001b[0m \u001b[0m_iterencode\u001b[0m\u001b[0;34m(\u001b[0m\u001b[0mvalue\u001b[0m\u001b[0;34m,\u001b[0m \u001b[0m_current_indent_level\u001b[0m\u001b[0;34m)\u001b[0m\u001b[0;34m\u001b[0m\u001b[0m\n\u001b[0;32m--> 324\u001b[0;31m                 \u001b[0;32myield\u001b[0m \u001b[0;32mfrom\u001b[0m \u001b[0mchunks\u001b[0m\u001b[0;34m\u001b[0m\u001b[0m\n\u001b[0m\u001b[1;32m    325\u001b[0m         \u001b[0;32mif\u001b[0m \u001b[0mnewline_indent\u001b[0m \u001b[0;32mis\u001b[0m \u001b[0;32mnot\u001b[0m \u001b[0;32mNone\u001b[0m\u001b[0;34m:\u001b[0m\u001b[0;34m\u001b[0m\u001b[0m\n\u001b[1;32m    326\u001b[0m             \u001b[0m_current_indent_level\u001b[0m \u001b[0;34m-=\u001b[0m \u001b[0;36m1\u001b[0m\u001b[0;34m\u001b[0m\u001b[0m\n",
      "\u001b[0;32m/usr/lib/python3.5/json/encoder.py\u001b[0m in \u001b[0;36m_iterencode_dict\u001b[0;34m(dct, _current_indent_level)\u001b[0m\n\u001b[1;32m    401\u001b[0m                 \u001b[0;32melse\u001b[0m\u001b[0;34m:\u001b[0m\u001b[0;34m\u001b[0m\u001b[0m\n\u001b[1;32m    402\u001b[0m                     \u001b[0mchunks\u001b[0m \u001b[0;34m=\u001b[0m \u001b[0m_iterencode\u001b[0m\u001b[0;34m(\u001b[0m\u001b[0mvalue\u001b[0m\u001b[0;34m,\u001b[0m \u001b[0m_current_indent_level\u001b[0m\u001b[0;34m)\u001b[0m\u001b[0;34m\u001b[0m\u001b[0m\n\u001b[0;32m--> 403\u001b[0;31m                 \u001b[0;32myield\u001b[0m \u001b[0;32mfrom\u001b[0m \u001b[0mchunks\u001b[0m\u001b[0;34m\u001b[0m\u001b[0m\n\u001b[0m\u001b[1;32m    404\u001b[0m         \u001b[0;32mif\u001b[0m \u001b[0mnewline_indent\u001b[0m \u001b[0;32mis\u001b[0m \u001b[0;32mnot\u001b[0m \u001b[0;32mNone\u001b[0m\u001b[0;34m:\u001b[0m\u001b[0;34m\u001b[0m\u001b[0m\n\u001b[1;32m    405\u001b[0m             \u001b[0m_current_indent_level\u001b[0m \u001b[0;34m-=\u001b[0m \u001b[0;36m1\u001b[0m\u001b[0;34m\u001b[0m\u001b[0m\n",
      "\u001b[0;32m/usr/lib/python3.5/json/encoder.py\u001b[0m in \u001b[0;36m_iterencode\u001b[0;34m(o, _current_indent_level)\u001b[0m\n\u001b[1;32m    434\u001b[0m                     \u001b[0;32mraise\u001b[0m \u001b[0mValueError\u001b[0m\u001b[0;34m(\u001b[0m\u001b[0;34m\"Circular reference detected\"\u001b[0m\u001b[0;34m)\u001b[0m\u001b[0;34m\u001b[0m\u001b[0m\n\u001b[1;32m    435\u001b[0m                 \u001b[0mmarkers\u001b[0m\u001b[0;34m[\u001b[0m\u001b[0mmarkerid\u001b[0m\u001b[0;34m]\u001b[0m \u001b[0;34m=\u001b[0m \u001b[0mo\u001b[0m\u001b[0;34m\u001b[0m\u001b[0m\n\u001b[0;32m--> 436\u001b[0;31m             \u001b[0mo\u001b[0m \u001b[0;34m=\u001b[0m \u001b[0m_default\u001b[0m\u001b[0;34m(\u001b[0m\u001b[0mo\u001b[0m\u001b[0;34m)\u001b[0m\u001b[0;34m\u001b[0m\u001b[0m\n\u001b[0m\u001b[1;32m    437\u001b[0m             \u001b[0;32myield\u001b[0m \u001b[0;32mfrom\u001b[0m \u001b[0m_iterencode\u001b[0m\u001b[0;34m(\u001b[0m\u001b[0mo\u001b[0m\u001b[0;34m,\u001b[0m \u001b[0m_current_indent_level\u001b[0m\u001b[0;34m)\u001b[0m\u001b[0;34m\u001b[0m\u001b[0m\n\u001b[1;32m    438\u001b[0m             \u001b[0;32mif\u001b[0m \u001b[0mmarkers\u001b[0m \u001b[0;32mis\u001b[0m \u001b[0;32mnot\u001b[0m \u001b[0;32mNone\u001b[0m\u001b[0;34m:\u001b[0m\u001b[0;34m\u001b[0m\u001b[0m\n",
      "\u001b[0;32m/usr/lib/python3.5/json/encoder.py\u001b[0m in \u001b[0;36mdefault\u001b[0;34m(self, o)\u001b[0m\n\u001b[1;32m    177\u001b[0m \u001b[0;34m\u001b[0m\u001b[0m\n\u001b[1;32m    178\u001b[0m         \"\"\"\n\u001b[0;32m--> 179\u001b[0;31m         \u001b[0;32mraise\u001b[0m \u001b[0mTypeError\u001b[0m\u001b[0;34m(\u001b[0m\u001b[0mrepr\u001b[0m\u001b[0;34m(\u001b[0m\u001b[0mo\u001b[0m\u001b[0;34m)\u001b[0m \u001b[0;34m+\u001b[0m \u001b[0;34m\" is not JSON serializable\"\u001b[0m\u001b[0;34m)\u001b[0m\u001b[0;34m\u001b[0m\u001b[0m\n\u001b[0m\u001b[1;32m    180\u001b[0m \u001b[0;34m\u001b[0m\u001b[0m\n\u001b[1;32m    181\u001b[0m     \u001b[0;32mdef\u001b[0m \u001b[0mencode\u001b[0m\u001b[0;34m(\u001b[0m\u001b[0mself\u001b[0m\u001b[0;34m,\u001b[0m \u001b[0mo\u001b[0m\u001b[0;34m)\u001b[0m\u001b[0;34m:\u001b[0m\u001b[0;34m\u001b[0m\u001b[0m\n",
      "\u001b[0;31mTypeError\u001b[0m: 1 is not JSON serializable"
     ]
    }
   ],
   "source": [
    "import json\n",
    "with open('tree_restructured.txt', 'w') as outfile:\n",
    "    json.dump(data, outfile)"
   ]
  },
  {
   "cell_type": "code",
   "execution_count": null,
   "metadata": {},
   "outputs": [],
   "source": []
  }
 ],
 "metadata": {
  "anaconda-cloud": {},
  "kernelspec": {
   "display_name": "Python 3",
   "language": "python",
   "name": "python3"
  },
  "language_info": {
   "codemirror_mode": {
    "name": "ipython",
    "version": 3
   },
   "file_extension": ".py",
   "mimetype": "text/x-python",
   "name": "python",
   "nbconvert_exporter": "python",
   "pygments_lexer": "ipython3",
   "version": "3.5.2"
  }
 },
 "nbformat": 4,
 "nbformat_minor": 1
}
